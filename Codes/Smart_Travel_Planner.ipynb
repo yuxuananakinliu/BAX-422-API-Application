{
 "cells": [
  {
   "cell_type": "markdown",
   "metadata": {},
   "source": [
    "# BAX-422 Project 1\n",
    "-- Anakin Liu, Jingyu Tang, Ruijie Shan, Ruiyuan Yang\n",
    "\n",
    "<br/>\n",
    "\n",
    "## Smart Travel Planner\n",
    "\n",
    "#### APIs used:\n",
    "* **OpenWhether** - https://openweathermap.org/api\n",
    "* **Amadeus** - https://developers.amadeus.com/self-service\n",
    "\n",
    "<br/>\n",
    "\n",
    "<br/>\n",
    "\n",
    "### Libraries"
   ]
  },
  {
   "cell_type": "code",
   "execution_count": 1,
   "metadata": {},
   "outputs": [],
   "source": [
    "import os\n",
    "import requests as rq\n",
    "from datetime import datetime"
   ]
  },
  {
   "cell_type": "markdown",
   "metadata": {},
   "source": [
    "<br/>\n",
    "\n",
    "### API Key Extract Function"
   ]
  },
  {
   "cell_type": "code",
   "execution_count": 2,
   "metadata": {},
   "outputs": [],
   "source": [
    "def ext_api(file_name: str)->dict[str, str]:\n",
    "    api_dict = {}\n",
    "    with open(file_name, 'r') as file:\n",
    "        for line in file:\n",
    "            key, value = line.strip().split('=', 1)\n",
    "            api_dict[key.strip()] = value.strip()\n",
    "    return api_dict"
   ]
  },
  {
   "cell_type": "markdown",
   "metadata": {},
   "source": [
    "<br/>\n",
    "\n",
    "### Functionalities Class"
   ]
  },
  {
   "cell_type": "code",
   "execution_count": 3,
   "metadata": {},
   "outputs": [],
   "source": [
    "class SmartTravelPlanner:\n",
    "    def __init__(self, weather_key:str, amadeus_key_pack:tuple[str, str]):\n",
    "        # Extract API keys\n",
    "        self.__weather_key = weather_key\n",
    "\n",
    "        # Base URLs for the APIs\n",
    "        self.weather_base_url = \"https://api.openweathermap.org/data/2.5/weather\"\n",
    "        self.amadeus_auth_url = \"https://test.api.amadeus.com/v1/security/oauth2/token\"\n",
    "        self.amadeus_flight_url = \"https://test.api.amadeus.com/v2/shopping/flight-offers\"\n",
    "\n",
    "        # Initialize Amadeus access token\n",
    "        payload = {\n",
    "            \"grant_type\":\"client_credentials\",\n",
    "            \"client_id\":amadeus_key_pack[0],\n",
    "            \"client_secret\":amadeus_key_pack[1]\n",
    "        }\n",
    "        headers = {\"Content-Type\": \"application/x-www-form-urlencoded\"}\n",
    "        response = rq.post(self.amadeus_auth_url, data=payload, headers=headers)\n",
    "        self.__amadeus_token = response.json().get(\"access_token\")\n",
    "    \n",
    "\n",
    "    # Generic method for making API calls and handling errors.\n",
    "    def make_api_request(self, url:str, params:dict[str, str], headers=None)->dict|None:\n",
    "        try:\n",
    "            response = rq.get(url, params=params, headers=headers)\n",
    "            return response.json()\n",
    "        except rq.exceptions.RequestException as e:\n",
    "            print(f\"API request failed: {e}\")\n",
    "            return None\n",
    "        \n",
    "    \n",
    "    # Method for timestamp formation\n",
    "    def format_timestamp(self, timestamp:int, is_24h:bool)->str:\n",
    "        dt_object = datetime.fromtimestamp(timestamp)\n",
    "        if is_24h:\n",
    "            return dt_object.strftime(\"%H:%M\")\n",
    "        else:\n",
    "            return dt_object.strftime(\"%I:%M %p\")\n",
    "    \n",
    "\n",
    "    # Fetch weather data using OpenWeather API\n",
    "    def get_weather(self, city:str, pref:str='global')->dict[str, str]:\n",
    "        # Distinguish user preference\n",
    "        settings = {\n",
    "            \"global\":{\"metric\":\"metric\", \"temp_unit\":\"C\", \"dist_unit\":\"km\", \"spd_unit\":\"m/s\", \"is_24h\":True},\n",
    "            \"us\":{\"metric\":\"imperial\", \"temp_unit\":\"F\", \"dist_unit\":\"mile\", \"spd_unit\":\"mph\", \"is_24h\":False}\n",
    "        }\n",
    "        rule = settings[pref]\n",
    "\n",
    "        # API call\n",
    "        params = {\"q\":city, \"appid\":self.__weather_key, \"units\":rule[\"metric\"]}\n",
    "        json_data = self.make_api_request(self.weather_base_url, params)\n",
    "\n",
    "        # Convert visibility\n",
    "        visibility = int(json_data['visibility'] * (0.001 if pref == 'global' else 0.000621371))\n",
    "\n",
    "        # Convert wind direction\n",
    "        wind_deg = json_data['wind']['deg']\n",
    "        wind_directions = [\"North\", \"North-East\", \"East\", \"South-East\", \"South\", \"South-West\", \"West\", \"North-West\"]\n",
    "        wind_dir = wind_directions[round(wind_deg / 45) % 8]\n",
    "\n",
    "        # Formatting data for presentation\n",
    "        return {\n",
    "            \"city\": city,\n",
    "            \"time\": self.format_timestamp(json_data['dt'], rule['is_24h']),\n",
    "            \"temperature\": f\"{json_data['main']['temp']}°{rule['temp_unit']}\",\n",
    "            \"min_temperature\": f\"{json_data['main']['temp_min']}°{rule['temp_unit']}\",\n",
    "            \"max_temperature\": f\"{json_data['main']['temp_max']}°{rule['temp_unit']}\",\n",
    "            \"feels\": f\"{json_data['main']['feels_like']}°{rule['temp_unit']}\",\n",
    "            \"humidity\": f\"{json_data['main']['humidity']}%\",\n",
    "            \"visibility\": f\"{visibility} {rule['dist_unit']}\",\n",
    "            \"weather\": json_data['weather'][0]['main'],\n",
    "            \"weather_icon\": f\"http://openweathermap.org/img/wn/{json_data['weather'][0]['icon']}.png\",\n",
    "            \"wind_speed\": f\"{json_data['wind']['speed']} {rule['spd_unit']}\",\n",
    "            \"wind_dir\": wind_dir,\n",
    "            \"sunrise\": self.format_timestamp(json_data['sys']['sunrise'], rule['is_24h']),\n",
    "            \"sunset\": self.format_timestamp(json_data['sys']['sunset'], rule['is_24h'])\n",
    "        }\n",
    "    \n",
    "\n",
    "    # Fetch flight prices from Amadeus API\n",
    "    def get_flight_offers(\n",
    "            self, \n",
    "            origin:str, \n",
    "            destination:str, \n",
    "            departure_date:str, \n",
    "            adults:int=1, \n",
    "            max_results:int=10\n",
    "        )->list[dict[str, str]]:\n",
    "        # Error check\n",
    "        if not self.__amadeus_token:\n",
    "            return {\"error\": \"Failed to authenticate with Amadeus API\"}\n",
    "\n",
    "        # Parameter setting\n",
    "        headers = {\"Authorization\":f\"Bearer {self.__amadeus_token}\"}\n",
    "        params = {\n",
    "            \"originLocationCode\":origin,\n",
    "            \"destinationLocationCode\":destination,\n",
    "            \"departureDate\":departure_date,\n",
    "            \"adults\":adults,\n",
    "            \"max\": max_results\n",
    "        }\n",
    "\n",
    "        # API call\n",
    "        json_data = self.make_api_request(self.amadeus_flight_url, params, headers)\n",
    "\n",
    "        # Extract important information\n",
    "        flight_offers = []\n",
    "        for flight in json_data[\"data\"]:\n",
    "            # Airline and price information\n",
    "            airline_code = flight[\"validatingAirlineCodes\"][0]\n",
    "            price = float(flight[\"price\"]['grandTotal'])  # Convert price to float for sorting\n",
    "            price_unit = flight[\"price\"]['currency']\n",
    "            \n",
    "            # Flight itinerary details\n",
    "            itinerary = flight[\"itineraries\"][0]\n",
    "            segments = itinerary[\"segments\"]\n",
    "            # Extract departure and arrival times\n",
    "            first_segment = segments[0]\n",
    "            last_segment = segments[-1]\n",
    "            departure_time = first_segment[\"departure\"][\"at\"]\n",
    "            arrival_time = last_segment[\"arrival\"][\"at\"]\n",
    "            # Check if the flight is direct or requires transits\n",
    "            is_direct = len(segments) == 1\n",
    "            transit_info = 'Direct flight' if is_direct else 'Need to transfer'\n",
    "\n",
    "            # Append formatted flight information\n",
    "            flight_offers.append({\n",
    "                \"airline\": airline_code,\n",
    "                \"price\": price,  # Store as float for sorting\n",
    "                \"price_display\": f\"{price} {price_unit}\",  # Separate display version\n",
    "                \"departure_time\": departure_time,\n",
    "                \"arrival_time\": arrival_time,\n",
    "                \"transit_info\": transit_info,\n",
    "                \"carrier\": first_segment[\"carrierCode\"]\n",
    "            })\n",
    "\n",
    "        # Sort flights by price (ascending order)\n",
    "        flight_offers.sort(key=lambda x: x[\"price\"])\n",
    "\n",
    "        # Clean up\n",
    "        for flight in flight_offers:\n",
    "            del flight[\"price\"]\n",
    "\n",
    "        return flight_offers\n",
    "\n",
    "    \n",
    "    # Fetch hotel options from Amadeus hotel API\n",
    "    def get_car_rentals(self, location):\n",
    "        '''delete this string and continue coding'''"
   ]
  },
  {
   "cell_type": "markdown",
   "metadata": {},
   "source": [
    "<br/>\n",
    "\n",
    "### Function Test - Setup"
   ]
  },
  {
   "cell_type": "code",
   "execution_count": 4,
   "metadata": {},
   "outputs": [],
   "source": [
    "apis = ext_api('api_keys.txt')\n",
    "\n",
    "stp = SmartTravelPlanner(apis['openweathermap_api'], (apis['amadeus_api'], apis['amadeus_secret']))"
   ]
  },
  {
   "cell_type": "markdown",
   "metadata": {},
   "source": [
    "<br/>\n",
    "\n",
    "### Function Test - Weather Information"
   ]
  },
  {
   "cell_type": "code",
   "execution_count": null,
   "metadata": {},
   "outputs": [
    {
     "name": "stdout",
     "output_type": "stream",
     "text": [
      "{'city': 'San Francisco', 'time': '08:54 PM', 'temperature': '55.11°F', 'min_temperature': '53.06°F', 'max_temperature': '57.38°F', 'feels': '54.32°F', 'humidity': '85%', 'visibility': '6 mile', 'weather': 'Rain', 'weather_icon': 'http://openweathermap.org/img/wn/10n.png', 'wind_speed': '17.27 mph', 'wind_dir': 'South-East', 'sunrise': '07:11 AM', 'sunset': '05:35 PM'}\n"
     ]
    }
   ],
   "source": [
    "city_weather = stp.get_weather(\"San Francisco\", pref='us')\n",
    "print(city_weather)"
   ]
  },
  {
   "cell_type": "markdown",
   "metadata": {},
   "source": [
    "<br/>\n",
    "\n",
    "### Function Test - Flight Information"
   ]
  },
  {
   "cell_type": "code",
   "execution_count": 5,
   "metadata": {},
   "outputs": [
    {
     "name": "stdout",
     "output_type": "stream",
     "text": [
      "{'airline': 'F9', 'price_display': '68.12 EUR', 'departure_time': '2025-03-10T18:18:00', 'arrival_time': '2025-03-11T08:00:00', 'transit_info': 'Need to transfer', 'carrier': 'F9'}\n",
      "{'airline': 'F9', 'price_display': '73.5 EUR', 'departure_time': '2025-03-10T12:24:00', 'arrival_time': '2025-03-11T08:00:00', 'transit_info': 'Need to transfer', 'carrier': 'F9'}\n",
      "{'airline': 'B6', 'price_display': '120.06 EUR', 'departure_time': '2025-03-10T05:30:00', 'arrival_time': '2025-03-10T13:54:00', 'transit_info': 'Direct flight', 'carrier': 'B6'}\n",
      "{'airline': 'B6', 'price_display': '120.06 EUR', 'departure_time': '2025-03-10T14:10:00', 'arrival_time': '2025-03-10T22:38:00', 'transit_info': 'Direct flight', 'carrier': 'B6'}\n",
      "{'airline': 'AS', 'price_display': '120.06 EUR', 'departure_time': '2025-03-10T13:20:00', 'arrival_time': '2025-03-10T22:01:00', 'transit_info': 'Direct flight', 'carrier': 'AS'}\n",
      "{'airline': 'AS', 'price_display': '129.39 EUR', 'departure_time': '2025-03-10T08:00:00', 'arrival_time': '2025-03-10T19:30:00', 'transit_info': 'Need to transfer', 'carrier': 'AS'}\n",
      "{'airline': 'AS', 'price_display': '129.39 EUR', 'departure_time': '2025-03-10T07:00:00', 'arrival_time': '2025-03-10T19:30:00', 'transit_info': 'Need to transfer', 'carrier': 'AS'}\n",
      "{'airline': 'AS', 'price_display': '129.39 EUR', 'departure_time': '2025-03-10T10:05:00', 'arrival_time': '2025-03-10T23:04:00', 'transit_info': 'Need to transfer', 'carrier': 'AS'}\n",
      "{'airline': 'B6', 'price_display': '148.01 EUR', 'departure_time': '2025-03-10T10:30:00', 'arrival_time': '2025-03-10T19:03:00', 'transit_info': 'Direct flight', 'carrier': 'B6'}\n",
      "{'airline': 'AS', 'price_display': '148.01 EUR', 'departure_time': '2025-03-10T06:20:00', 'arrival_time': '2025-03-10T15:01:00', 'transit_info': 'Direct flight', 'carrier': 'AS'}\n"
     ]
    }
   ],
   "source": [
    "res = stp.get_flight_offers('SFO', 'JFK', '2025-03-10')\n",
    "for r in res:\n",
    "    print(r)"
   ]
  },
  {
   "cell_type": "markdown",
   "metadata": {},
   "source": [
    "<br/>\n",
    "\n",
    "### Function Test - Hotel Information"
   ]
  },
  {
   "cell_type": "code",
   "execution_count": null,
   "metadata": {},
   "outputs": [],
   "source": []
  }
 ],
 "metadata": {
  "kernelspec": {
   "display_name": "Python 3",
   "language": "python",
   "name": "python3"
  },
  "language_info": {
   "codemirror_mode": {
    "name": "ipython",
    "version": 3
   },
   "file_extension": ".py",
   "mimetype": "text/x-python",
   "name": "python",
   "nbconvert_exporter": "python",
   "pygments_lexer": "ipython3",
   "version": "3.11.1"
  }
 },
 "nbformat": 4,
 "nbformat_minor": 2
}
